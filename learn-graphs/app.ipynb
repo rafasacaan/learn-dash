{
 "cells": [
  {
   "cell_type": "code",
   "execution_count": 1,
   "metadata": {},
   "outputs": [],
   "source": [
    "import logging\n",
    "\n",
    "logger = logging.getLogger(__name__)\n",
    "root_logger = logging.getLogger()\n",
    "root_logger.setLevel(logging.INFO)\n",
    "sh = logging.StreamHandler()\n",
    "formatter = logging.Formatter(\"%(asctime)s - %(name)s - %(levelname)s - %(message)s\")\n",
    "sh.setFormatter(formatter)\n",
    "root_logger.addHandler(sh)"
   ]
  },
  {
   "cell_type": "code",
   "execution_count": 2,
   "metadata": {},
   "outputs": [],
   "source": [
    "import pandas as pd\n",
    "import numpy as np\n",
    "import plotly.express as px\n",
    "import dash\n",
    "import dash_cytoscape as cyto\n",
    "from dash import html\n",
    "import dash_bootstrap_components as dbc\n",
    "from dash import dcc\n",
    "from dash.dependencies import Input, Output\n",
    "from sklearn.manifold import TSNE\n",
    "import umap\n",
    "import json"
   ]
  },
  {
   "cell_type": "markdown",
   "metadata": {},
   "source": [
    "# Data"
   ]
  },
  {
   "cell_type": "code",
   "execution_count": 3,
   "metadata": {},
   "outputs": [],
   "source": [
    "# load data\n",
    "network_df = pd.read_csv(\"outputs/network_df_sm.csv\", index_col=0)  # ~4700 nodes\n",
    "\n",
    "# prepare data\n",
    "network_df[\"citations\"] = network_df[\"citations\"].fillna(\"\")\n",
    "network_df[\"cited_by\"] = network_df[\"cited_by\"].fillna(\"\")\n",
    "network_df[\"topic_id\"] = network_df[\"topic_id\"].astype(str)\n",
    "topic_ids = [str(i) for i in range(len(network_df[\"topic_id\"].unique()))]"
   ]
  },
  {
   "cell_type": "code",
   "execution_count": 4,
   "metadata": {},
   "outputs": [],
   "source": [
    "# load topics\n",
    "with open(\"outputs/lda_topics.json\", \"r\") as f:\n",
    "    lda_topics = json.load(f)\n",
    "    \n",
    "topics_txt = [lda_topics[str(i)] for i in range(len(lda_topics))]\n",
    "topics_txt = [[j.split(\"*\")[1].replace('\"', \"\") for j in i] for i in topics_txt]\n",
    "topics_txt = [\"; \".join(i) for i in topics_txt]"
   ]
  },
  {
   "cell_type": "code",
   "execution_count": 5,
   "metadata": {},
   "outputs": [],
   "source": [
    "# load journal ranking\n",
    "journal_ser = network_df.groupby(\"journal\")[\"0\"].count().sort_values(ascending=False)"
   ]
  },
  {
   "cell_type": "markdown",
   "metadata": {},
   "source": [
    "# Utils"
   ]
  },
  {
   "cell_type": "code",
   "execution_count": 6,
   "metadata": {},
   "outputs": [],
   "source": [
    "def tsne_to_cyto(tsne_val, scale_factor=40):\n",
    "    return int(scale_factor * (float(tsne_val)))"
   ]
  },
  {
   "cell_type": "code",
   "execution_count": 7,
   "metadata": {},
   "outputs": [],
   "source": [
    "def get_node_list(in_df):  # Convert DF data to node list for cytoscape\n",
    "    return [\n",
    "        {\n",
    "            \"data\": {\n",
    "                \"id\": str(i),\n",
    "                \"label\": str(i),\n",
    "                \"title\": row[\"title\"],\n",
    "                \"journal\": row[\"journal\"],\n",
    "                \"pub_date\": row[\"pub_date\"],\n",
    "                \"authors\": row[\"authors\"],\n",
    "                \"cited_by\": row[\"cited_by\"],\n",
    "                \"n_cites\": row[\"n_cites\"],\n",
    "                \"node_size\": int(np.sqrt(1 + row[\"n_cites\"]) * 10),\n",
    "            },\n",
    "            \"position\": {\"x\": tsne_to_cyto(row[\"x\"]), \"y\": tsne_to_cyto(row[\"y\"])},\n",
    "            \"classes\": row[\"topic_id\"],\n",
    "            \"selectable\": True,\n",
    "            \"grabbable\": False,\n",
    "        }\n",
    "        for i, row in in_df.iterrows()\n",
    "    ]"
   ]
  },
  {
   "cell_type": "code",
   "execution_count": 8,
   "metadata": {},
   "outputs": [],
   "source": [
    "def get_node_locs(in_df, dim_red_algo=\"tsne\", tsne_perp=40):\n",
    "    logger.info(\n",
    "        f\"Starting dimensionality reduction on {len(in_df)} nodes, with {dim_red_algo}\"\n",
    "    )\n",
    "\n",
    "    if dim_red_algo == \"tsne\":\n",
    "        node_locs = TSNE(\n",
    "            n_components=2,\n",
    "            perplexity=tsne_perp,\n",
    "            n_iter=300,\n",
    "            n_iter_without_progress=100,\n",
    "            learning_rate=150,\n",
    "            random_state=23,\n",
    "        ).fit_transform(in_df[topic_ids].values)\n",
    "    elif dim_red_algo == \"umap\":\n",
    "        reducer = umap.UMAP(n_components=2)\n",
    "        node_locs = reducer.fit_transform(in_df[topic_ids].values)\n",
    "    else:\n",
    "        logger.error(\n",
    "            f\"Dimensionality reduction algorithm {dim_red_algo} is not a valid choice! Something went wrong\"\n",
    "        )\n",
    "        node_locs = np.zeros([len(in_df), 2])\n",
    "\n",
    "    logger.info(\"Finished dimensionality reduction\")\n",
    "\n",
    "    x_list = node_locs[:, 0]\n",
    "    y_list = node_locs[:, 1]\n",
    "\n",
    "    return x_list, y_list"
   ]
  },
  {
   "cell_type": "code",
   "execution_count": 9,
   "metadata": {},
   "outputs": [],
   "source": [
    "def update_node_data(dim_red_algo, tsne_perp, in_df):\n",
    "    (x_list, y_list) = get_node_locs(in_df, dim_red_algo, tsne_perp=tsne_perp)\n",
    "\n",
    "    x_range = max(x_list) - min(x_list)\n",
    "    y_range = max(y_list) - min(y_list)\n",
    "    # print(\"Ranges: \", x_range, y_range)\n",
    "\n",
    "    scale_factor = int(4000 / (x_range + y_range))\n",
    "    in_df[\"x\"] = x_list\n",
    "    in_df[\"y\"] = y_list\n",
    "\n",
    "    tmp_node_list = get_node_list(in_df)\n",
    "    for i in range(\n",
    "        len(in_df)\n",
    "    ):  # Re-scaling to ensure proper canvas scaling vs node sizes\n",
    "        tmp_node_list[i][\"position\"][\"x\"] = tsne_to_cyto(x_list[i], scale_factor)\n",
    "        tmp_node_list[i][\"position\"][\"y\"] = tsne_to_cyto(y_list[i], scale_factor)\n",
    "\n",
    "    return tmp_node_list"
   ]
  },
  {
   "cell_type": "code",
   "execution_count": 10,
   "metadata": {},
   "outputs": [],
   "source": [
    "def draw_edges(in_df=network_df):\n",
    "    conn_list_out = list()\n",
    "\n",
    "    for i, row in in_df.iterrows():\n",
    "        citations = row[\"cited_by\"]\n",
    "\n",
    "        if len(citations) == 0:\n",
    "            citations_list = []\n",
    "        else:\n",
    "            citations_list = citations.split(\",\")\n",
    "\n",
    "        for cit in citations_list:\n",
    "            if int(cit) in in_df.index:\n",
    "                tgt_topic = row[\"topic_id\"]\n",
    "                temp_dict = {\n",
    "                    \"data\": {\"source\": cit, \"target\": str(i)},\n",
    "                    \"classes\": tgt_topic,\n",
    "                    \"tgt_topic\": tgt_topic,\n",
    "                    \"src_topic\": in_df.loc[int(cit), \"topic_id\"],\n",
    "                    \"locked\": True,\n",
    "                }\n",
    "                conn_list_out.append(temp_dict)\n",
    "\n",
    "    return conn_list_out"
   ]
  },
  {
   "cell_type": "markdown",
   "metadata": {},
   "source": [
    "# Dash init values"
   ]
  },
  {
   "cell_type": "code",
   "execution_count": 11,
   "metadata": {},
   "outputs": [
    {
     "data": {
      "text/plain": [
       "(1, ['PLoS One', 'Viruses', 'PLoS Pathog'], 1939)"
      ]
     },
     "execution_count": 11,
     "metadata": {},
     "output_type": "execute_result"
    }
   ],
   "source": [
    "# Init values to fill\n",
    "\n",
    "with open(\"outputs/startup_elms.json\", \"r\") as f:\n",
    "    startup_elms = json.load(f)\n",
    "\n",
    "startup_n_cites = startup_elms[\"n_cites\"]\n",
    "startup_journals = startup_elms[\"journals\"]\n",
    "startup_elm_list = startup_elms[\"elm_list\"]\n",
    "\n",
    "startup_n_cites, startup_journals, len(startup_elm_list)"
   ]
  },
  {
   "cell_type": "markdown",
   "metadata": {},
   "source": [
    "# Style per topic"
   ]
  },
  {
   "cell_type": "code",
   "execution_count": 12,
   "metadata": {},
   "outputs": [
    {
     "name": "stdout",
     "output_type": "stream",
     "text": [
      "14\n"
     ]
    }
   ],
   "source": [
    "# Select a color for each topic\n",
    "# Add extra color\n",
    "\n",
    "col_swatch = px.colors.qualitative.Dark24\n",
    "\n",
    "def_stylesheet = [\n",
    "    {\n",
    "        \"selector\": \".\" + str(i),\n",
    "        \"style\": {\"background-color\": col_swatch[i], \"line-color\": col_swatch[i]},\n",
    "    }\n",
    "    for i in range(len(network_df[\"topic_id\"].unique()))\n",
    "]\n",
    "def_stylesheet += [\n",
    "    {\n",
    "        \"selector\": \"node\",\n",
    "        \"style\": {\"width\": \"data(node_size)\", \"height\": \"data(node_size)\"},\n",
    "    },\n",
    "    {\"selector\": \"edge\", \"style\": {\"width\": 1, \"curve-style\": \"bezier\"}},\n",
    "]\n",
    "\n",
    "print(len(def_stylesheet))"
   ]
  },
  {
   "cell_type": "code",
   "execution_count": 13,
   "metadata": {},
   "outputs": [
    {
     "data": {
      "text/plain": [
       "{'selector': '.0',\n",
       " 'style': {'background-color': '#2E91E5', 'line-color': '#2E91E5'}}"
      ]
     },
     "execution_count": 13,
     "metadata": {},
     "output_type": "execute_result"
    }
   ],
   "source": [
    "def_stylesheet[0]"
   ]
  },
  {
   "cell_type": "markdown",
   "metadata": {},
   "source": [
    "# Navbar"
   ]
  },
  {
   "cell_type": "code",
   "execution_count": 73,
   "metadata": {},
   "outputs": [],
   "source": [
    "navbar = dbc.NavbarSimple(\n",
    "    children=[\n",
    "        dbc.NavItem(\n",
    "            dbc.NavLink(\n",
    "                \"Article\",\n",
    "                href=\"https://google.com\"\n",
    "            )\n",
    "        ),\n",
    "        dbc.NavItem(\n",
    "            dbc.NavLink(\n",
    "                \"Source\",\n",
    "                href=\"https://google.com\"\n",
    "            )\n",
    "        )\n",
    "    ],\n",
    "    brand=\"CORD-19 LDA analysis output\",\n",
    "    brand_href=\"#\",\n",
    "    #color=\"dark\",\n",
    "    #dark=True,\n",
    ")"
   ]
  },
  {
   "cell_type": "markdown",
   "metadata": {},
   "source": [
    "Topics"
   ]
  },
  {
   "cell_type": "code",
   "execution_count": 74,
   "metadata": {},
   "outputs": [],
   "source": [
    "topics_html = list()\n",
    "\n",
    "for topic_html in [\n",
    "    html.Span([str(i) + \": \" + topics_txt[i]], style={\"color\": col_swatch[i]})\n",
    "    for i in range(len(topics_txt))\n",
    "]:\n",
    "    topics_html.append(topic_html)\n",
    "    topics_html.append(html.Br()) # break"
   ]
  },
  {
   "cell_type": "code",
   "execution_count": 75,
   "metadata": {},
   "outputs": [
    {
     "data": {
      "text/plain": [
       "Span(children=['0: vaccine; antibody; protein; peptide; human; specific; epitope; development; base; cell'], style={'color': '#2E91E5'})"
      ]
     },
     "execution_count": 75,
     "metadata": {},
     "output_type": "execute_result"
    }
   ],
   "source": [
    "topics_html[0]"
   ]
  },
  {
   "cell_type": "markdown",
   "metadata": {},
   "source": [
    "# Dash main"
   ]
  },
  {
   "cell_type": "code",
   "execution_count": 76,
   "metadata": {},
   "outputs": [],
   "source": [
    "# Main HTML\n",
    "body_layout = dbc.Container(children=[], \n",
    "    fluid=True,\n",
    "    style={'display': 'flex'},\n",
    "    className='dashboard-container'\n",
    ")"
   ]
  },
  {
   "cell_type": "code",
   "execution_count": 110,
   "metadata": {},
   "outputs": [
    {
     "data": {
      "text/html": [
       "\n",
       "        <iframe\n",
       "            width=\"100%\"\n",
       "            height=\"650\"\n",
       "            src=\"http://127.0.0.1:8055/\"\n",
       "            frameborder=\"0\"\n",
       "            allowfullscreen\n",
       "            \n",
       "        ></iframe>\n",
       "        "
      ],
      "text/plain": [
       "<IPython.lib.display.IFrame at 0x145ddf700>"
      ]
     },
     "metadata": {},
     "output_type": "display_data"
    }
   ],
   "source": [
    "# Style\n",
    "external_stylesheets = [\n",
    "    # load google font\n",
    "    #'https://fonts.googleapis.com/css2?family=Poppins:ital,wght@0,100;0,200;0,300;0,400;0,500;0,600;0,700;0,800;0,900;1,100;1,200;1,300;1,400;1,500;1,600;1,700;1,800;1,900&display=swap',\n",
    "     \n",
    "     # dbc theme\n",
    "     dbc.themes.BOOTSTRAP\n",
    "]\n",
    "\n",
    "# Create app\n",
    "app = dash.Dash(\n",
    "    __name__, \n",
    "    external_stylesheets=external_stylesheets\n",
    ")\n",
    "\n",
    "# Fill app with html\n",
    "app.layout = html.Div([navbar, body_layout])\n",
    "\n",
    "# Run\n",
    "if __name__ == \"__main__\":\n",
    "    app.run_server(debug=False, port=8055)"
   ]
  },
  {
   "cell_type": "markdown",
   "metadata": {},
   "source": [
    "# Dash body"
   ]
  },
  {
   "cell_type": "markdown",
   "metadata": {},
   "source": [
    "### Layout"
   ]
  },
  {
   "cell_type": "code",
   "execution_count": 112,
   "metadata": {},
   "outputs": [],
   "source": [
    "body_layout = dbc.Container(\n",
    "    [\n",
    "        # First row: Data and Topics\n",
    "        dbc.Row(\n",
    "            [\n",
    "                dbc.Col(\n",
    "                    data_col,\n",
    "                    sm=12,\n",
    "                    md=4\n",
    "                ),\n",
    "                dbc.Col(\n",
    "                    topics_col,\n",
    "                    sm=12,\n",
    "                    md=8\n",
    "                ),\n",
    "            ]\n",
    "        ),\n",
    "        # Second row: descriptive text\n",
    "        dbc.Row(\n",
    "            [\n",
    "                desc_text   \n",
    "            ]\n",
    "        ),\n",
    "        # Third row: network\n",
    "        dbc.Row(\n",
    "                network_row   \n",
    "        ),\n",
    "        # Fourth row: footer\n",
    "        dbc.Row(\n",
    "                footer_row,\n",
    "                style={\"fontSize\": 11, \"color\": \"gray\"}  \n",
    "        ),\n",
    "    ],\n",
    "    style={\"marginTop\": 20, 'font-size': 'small'},\n",
    ")"
   ]
  },
  {
   "cell_type": "markdown",
   "metadata": {},
   "source": [
    "### First row: data and topics cols"
   ]
  },
  {
   "cell_type": "code",
   "execution_count": 113,
   "metadata": {},
   "outputs": [],
   "source": [
    "data_col = [\n",
    "    dcc.Markdown(f\"\"\"\n",
    "-----\n",
    "##### Data:\n",
    "-----\n",
    "For this demonstration, {len(network_df)} papers from the CORD-19 dataset* were categorised into\n",
    "{len(network_df.topic_id.unique())} topics using\n",
    "[LDA](https://en.wikipedia.org/wiki/Latent_Dirichlet_allocation) analysis.\n",
    "\n",
    "Each topic is shown in different color on the citation map, as shown on the right.\n",
    "\"\"\"\n",
    "    ),\n",
    "]\n",
    "\n",
    "topics_col =  [\n",
    "    dcc.Markdown(\"\"\"\n",
    "-----\n",
    "##### Topics:\n",
    "-----\n",
    "\"\"\"\n",
    "    ),\n",
    "    html.Div(\n",
    "        topics_html,\n",
    "        style={\n",
    "            \"fontSize\": 11,\n",
    "            \"height\": \"100px\",\n",
    "            \"overflow\": \"auto\",\n",
    "        },\n",
    ")]"
   ]
  },
  {
   "cell_type": "markdown",
   "metadata": {},
   "source": [
    "### Second row: descriptive text"
   ]
  },
  {
   "cell_type": "code",
   "execution_count": 114,
   "metadata": {},
   "outputs": [],
   "source": [
    "desc_text = dcc.Markdown(\"\"\"\n",
    "-----\n",
    "##### Filter / Explore node data\n",
    "Node size indicates number of citations from this collection, and color indicates its\n",
    "main topic group.\n",
    "\n",
    "Use these filters to highlight papers with:\n",
    "* certain numbers of citations from this collection, and\n",
    "* by journal title\n",
    "\n",
    "Try showing or hiding citation connections with the toggle button, and explore different visualisation options.\n",
    "\n",
    "-----\n",
    "\"\"\"\n",
    ")"
   ]
  },
  {
   "cell_type": "markdown",
   "metadata": {},
   "source": [
    "### Third row: network"
   ]
  },
  {
   "cell_type": "code",
   "execution_count": 115,
   "metadata": {},
   "outputs": [],
   "source": [
    "network_row = [\n",
    "    dbc.Col(\n",
    "        [\n",
    "            dbc.Row(\n",
    "                [\n",
    "                    cyto.Cytoscape(\n",
    "                        id=\"core_19_cytoscape\",\n",
    "                        layout={\"name\": \"preset\"},\n",
    "                        style={\"width\": \"100%\", \"height\": \"400px\"},\n",
    "                        elements=startup_elm_list,\n",
    "                        stylesheet=def_stylesheet,\n",
    "                        minZoom=0.06,\n",
    "                    )\n",
    "                ]\n",
    "            ),\n",
    "            dbc.Row(\n",
    "                [\n",
    "                    dbc.Alert(\n",
    "                        id=\"node-data\",\n",
    "                        children=\"Click on a node to see its details here\",\n",
    "                        color=\"secondary\",\n",
    "                    )\n",
    "                ]\n",
    "            ),\n",
    "        ],\n",
    "        sm=12,\n",
    "        md=8,\n",
    "    ),\n",
    "    dbc.Col(\n",
    "        [\n",
    "            dbc.Badge(\n",
    "                \"Minimum citation(s):\", color=\"info\", className=\"mr-1\"\n",
    "            ),\n",
    "            dbc.Row(\n",
    "                [\n",
    "                    dcc.Dropdown(\n",
    "                        id=\"n_cites_dropdown\",\n",
    "                        options=[\n",
    "                            {\"label\": k, \"value\": k} for k in range(1, 21)\n",
    "                        ],\n",
    "                        clearable=False,\n",
    "                        value=startup_n_cites,\n",
    "                        style={\"width\": \"50px\"},\n",
    "                    )\n",
    "                ]\n",
    "            ),\n",
    "            dbc.Badge(\n",
    "                \"Journal(s) published:\", color=\"info\", className=\"mr-1\"\n",
    "            ),\n",
    "            dbc.Row(\n",
    "                [\n",
    "                    dcc.Dropdown(\n",
    "                        id=\"journals_dropdown\",\n",
    "                        options=[\n",
    "                            {\n",
    "                                \"label\": i\n",
    "                                + \" (\"\n",
    "                                + str(v)\n",
    "                                + \" publication(s))\",\n",
    "                                \"value\": i,\n",
    "                            }\n",
    "                            for i, v in journal_ser.items()\n",
    "                        ],\n",
    "                        value=startup_journals,\n",
    "                        multi=True,\n",
    "                        style={\"width\": \"100%\"},\n",
    "                    ),\n",
    "                ]\n",
    "            ),\n",
    "            dbc.Badge(\"Citation network:\", color=\"info\", className=\"mr-1\"),\n",
    "            dbc.Row(\n",
    "                [\n",
    "                    dbc.Container(\n",
    "                        [\n",
    "                            dbc.Checkbox(\n",
    "                                id=\"show_edges_radio\",\n",
    "                                className=\"form-check-input\",\n",
    "                                value=True,\n",
    "                            ),\n",
    "                            dbc.Label(\n",
    "                                \"Show citation connections\",\n",
    "                                html_for=\"show_edges_radio\",\n",
    "                                className=\"form-check-label\",\n",
    "                                style={\n",
    "                                    \"color\": \"DarkSlateGray\",\n",
    "                                    \"fontSize\": 12,\n",
    "                                },\n",
    "                            ),\n",
    "                        ]\n",
    "                    )\n",
    "                ]\n",
    "            ),\n",
    "            dbc.Badge(\n",
    "                \"Dimensionality reduction algorithm\",\n",
    "                color=\"info\",\n",
    "                className=\"mr-1\",\n",
    "            ),\n",
    "            dbc.Row(\n",
    "                [\n",
    "                    dcc.RadioItems(\n",
    "                        id=\"dim_red_algo\",\n",
    "                        options=[\n",
    "                            {\"label\": \"UMAP\", \"value\": \"umap\"},\n",
    "                            {\"label\": \"t-SNE\", \"value\": \"tsne\"},\n",
    "                        ],\n",
    "                        value=\"tsne\",\n",
    "                        labelStyle={\n",
    "                            \"display\": \"inline-block\",\n",
    "                            \"color\": \"DarkSlateGray\",\n",
    "                            \"fontSize\": 12,\n",
    "                            \"margin-right\": \"10px\",\n",
    "                        },\n",
    "                    )\n",
    "                ]\n",
    "            ),\n",
    "            dbc.Badge(\n",
    "                \"t-SNE parameters (not applicable to UMAP):\",\n",
    "                color=\"info\",\n",
    "                className=\"mr-1\",\n",
    "            ),\n",
    "            dbc.Container(\n",
    "                \"Current perplexity: 40 (min: 10, max:100)\",\n",
    "                id=\"tsne_para\",\n",
    "                style={\"color\": \"DarkSlateGray\", \"fontSize\": 12},\n",
    "            ),\n",
    "            dbc.Row(\n",
    "                [\n",
    "                    dcc.Slider(\n",
    "                        id=\"tsne_perp\",\n",
    "                        min=10,\n",
    "                        max=100,\n",
    "                        step=1,\n",
    "                        marks={10: \"10\", 100: \"100\",},\n",
    "                        value=40,\n",
    "                    ),\n",
    "                    # html.Div(id='slider-output')\n",
    "                ]\n",
    "            ),\n",
    "        ],\n",
    "        sm=12,\n",
    "        md=4,\n",
    "    ),\n",
    "]"
   ]
  },
  {
   "cell_type": "markdown",
   "metadata": {},
   "source": [
    "### Fourth row: footer"
   ]
  },
  {
   "cell_type": "code",
   "execution_count": 116,
   "metadata": {},
   "outputs": [],
   "source": [
    "footer_row = [\n",
    "    dcc.Markdown(\"\"\"\n",
    "\\* 'Commercial use subset' of the CORD-19 dataset from\n",
    "[Semantic Scholar](https://pages.semanticscholar.org/coronavirus-research)\n",
    "used, downloaded on 2/Apr/2020. The displayed nodes exclude papers that do not\n",
    "cite and are not cited by others in this set.\n",
    "\n",
    "\\* Data analysis carried out for demonstration of data visualisation purposes only.\n",
    "\"\"\"\n",
    "    )\n",
    "]"
   ]
  },
  {
   "cell_type": "markdown",
   "metadata": {},
   "source": [
    "# Callbacks"
   ]
  },
  {
   "cell_type": "code",
   "execution_count": 117,
   "metadata": {},
   "outputs": [],
   "source": [
    "@app.callback(\n",
    "    dash.dependencies.Output(\"tsne_para\", \"children\"),\n",
    "    [dash.dependencies.Input(\"tsne_perp\", \"value\")],\n",
    ")\n",
    "def update_output(value):\n",
    "    return f\"Current t-SNE perplexity: {value} (min: 10, max:100)\"\n"
   ]
  },
  {
   "cell_type": "code",
   "execution_count": 118,
   "metadata": {},
   "outputs": [],
   "source": [
    "\n",
    "@app.callback(\n",
    "    Output(\"core_19_cytoscape\", \"elements\"),\n",
    "    [\n",
    "        Input(\"n_cites_dropdown\", \"value\"),\n",
    "        Input(\"journals_dropdown\", \"value\"),\n",
    "        Input(\"show_edges_radio\", \"checked\"),\n",
    "        Input(\"dim_red_algo\", \"value\"),\n",
    "        Input(\"tsne_perp\", \"value\"),\n",
    "    ],\n",
    ")\n",
    "def filter_nodes(usr_min_cites, usr_journals_list, show_edges, dim_red_algo, tsne_perp):\n",
    "    # print(usr_min_cites, usr_journals_list, show_edges, dim_red_algo, tsne_perp)\n",
    "    # Use pre-calculated nodes/edges if default values are used\n",
    "    if (\n",
    "        usr_min_cites == startup_n_cites\n",
    "        and usr_journals_list == startup_journals\n",
    "        and show_edges == True\n",
    "        and dim_red_algo == \"tsne\"\n",
    "        and tsne_perp == 40\n",
    "    ):\n",
    "        logger.info(\"Using the default element list\")\n",
    "        return startup_elm_list\n",
    "\n",
    "    else:\n",
    "        # Generate node list\n",
    "        cur_df = network_df[(network_df.n_cites >= usr_min_cites)]\n",
    "        if usr_journals_list is not None and usr_journals_list != []:\n",
    "            cur_df = cur_df[(cur_df.journal.isin(usr_journals_list))]\n",
    "\n",
    "        cur_node_list = update_node_data(dim_red_algo, tsne_perp, in_df=cur_df)\n",
    "        conn_list = []\n",
    "\n",
    "        if show_edges:\n",
    "            conn_list = draw_edges(cur_df)\n",
    "\n",
    "        elm_list = cur_node_list + conn_list\n",
    "\n",
    "    return elm_list"
   ]
  },
  {
   "cell_type": "code",
   "execution_count": 119,
   "metadata": {},
   "outputs": [],
   "source": [
    "\n",
    "@app.callback(\n",
    "    Output(\"node-data\", \"children\"), [Input(\"core_19_cytoscape\", \"selectedNodeData\")]\n",
    ")\n",
    "def display_nodedata(datalist):\n",
    "    contents = \"Click on a node to see its details here\"\n",
    "    if datalist is not None:\n",
    "        if len(datalist) > 0:\n",
    "            data = datalist[-1]\n",
    "            contents = []\n",
    "            contents.append(html.H5(\"Title: \" + data[\"title\"].title()))\n",
    "            contents.append(\n",
    "                html.P(\n",
    "                    \"Journal: \"\n",
    "                    + data[\"journal\"].title()\n",
    "                    + \", Published: \"\n",
    "                    + data[\"pub_date\"]\n",
    "                )\n",
    "            )\n",
    "            contents.append(\n",
    "                html.P(\n",
    "                    \"Author(s): \"\n",
    "                    + str(data[\"authors\"])\n",
    "                    + \", Citations: \"\n",
    "                    + str(data[\"n_cites\"])\n",
    "                )\n",
    "            )\n",
    "\n",
    "    return contents"
   ]
  }
 ],
 "metadata": {
  "kernelspec": {
   "display_name": "ml",
   "language": "python",
   "name": "python3"
  },
  "language_info": {
   "codemirror_mode": {
    "name": "ipython",
    "version": 3
   },
   "file_extension": ".py",
   "mimetype": "text/x-python",
   "name": "python",
   "nbconvert_exporter": "python",
   "pygments_lexer": "ipython3",
   "version": "3.9.19"
  }
 },
 "nbformat": 4,
 "nbformat_minor": 2
}
